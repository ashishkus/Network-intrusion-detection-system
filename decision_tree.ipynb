{
 "cells": [
  {
   "cell_type": "code",
   "execution_count": 1,
   "metadata": {},
   "outputs": [],
   "source": [
    "import pandas as pd"
   ]
  },
  {
   "cell_type": "code",
   "execution_count": 2,
   "metadata": {},
   "outputs": [],
   "source": [
    "df = pd.read_csv(\"C:/Users/Aditya Kyatham/Documents/BE FINAL/nsl-kdd/NSL_KDD-master/my.csv\", index_col=None)"
   ]
  },
  {
   "cell_type": "code",
   "execution_count": 3,
   "metadata": {},
   "outputs": [
    {
     "data": {
      "text/html": [
       "<div>\n",
       "<style scoped>\n",
       "    .dataframe tbody tr th:only-of-type {\n",
       "        vertical-align: middle;\n",
       "    }\n",
       "\n",
       "    .dataframe tbody tr th {\n",
       "        vertical-align: top;\n",
       "    }\n",
       "\n",
       "    .dataframe thead th {\n",
       "        text-align: right;\n",
       "    }\n",
       "</style>\n",
       "<table border=\"1\" class=\"dataframe\">\n",
       "  <thead>\n",
       "    <tr style=\"text-align: right;\">\n",
       "      <th></th>\n",
       "      <th>duration</th>\n",
       "      <th>\"protocol_type\"</th>\n",
       "      <th>\"service\"</th>\n",
       "      <th>\"flag\"</th>\n",
       "      <th>\"src_bytes\"</th>\n",
       "      <th>\"dst_bytes\"</th>\n",
       "      <th>\"land\"</th>\n",
       "      <th>\"wrong_fragment\"</th>\n",
       "      <th>\"urgent\"</th>\n",
       "      <th>\"hot\"</th>\n",
       "      <th>...</th>\n",
       "      <th>dst_host_same_srv_rate</th>\n",
       "      <th>dst_host_diff_srv_rate</th>\n",
       "      <th>dst_host_diff_srv_rate.1</th>\n",
       "      <th>dst_host_srv_diff_host_rate</th>\n",
       "      <th>dst_host_serror_rate</th>\n",
       "      <th>dst_host_srv_serror_rate</th>\n",
       "      <th>dst_host_rerror_rate</th>\n",
       "      <th>dst_host_srv_rerror_rate</th>\n",
       "      <th>label</th>\n",
       "      <th>e</th>\n",
       "    </tr>\n",
       "  </thead>\n",
       "  <tbody>\n",
       "    <tr>\n",
       "      <th>0</th>\n",
       "      <td>0</td>\n",
       "      <td>udp</td>\n",
       "      <td>other</td>\n",
       "      <td>SF</td>\n",
       "      <td>146</td>\n",
       "      <td>0</td>\n",
       "      <td>0</td>\n",
       "      <td>0</td>\n",
       "      <td>0</td>\n",
       "      <td>0</td>\n",
       "      <td>...</td>\n",
       "      <td>0.00</td>\n",
       "      <td>0.60</td>\n",
       "      <td>0.88</td>\n",
       "      <td>0.00</td>\n",
       "      <td>0.00</td>\n",
       "      <td>0.00</td>\n",
       "      <td>0.0</td>\n",
       "      <td>0.00</td>\n",
       "      <td>normal</td>\n",
       "      <td>15</td>\n",
       "    </tr>\n",
       "    <tr>\n",
       "      <th>1</th>\n",
       "      <td>0</td>\n",
       "      <td>tcp</td>\n",
       "      <td>private</td>\n",
       "      <td>S0</td>\n",
       "      <td>0</td>\n",
       "      <td>0</td>\n",
       "      <td>0</td>\n",
       "      <td>0</td>\n",
       "      <td>0</td>\n",
       "      <td>0</td>\n",
       "      <td>...</td>\n",
       "      <td>0.10</td>\n",
       "      <td>0.05</td>\n",
       "      <td>0.00</td>\n",
       "      <td>0.00</td>\n",
       "      <td>1.00</td>\n",
       "      <td>1.00</td>\n",
       "      <td>0.0</td>\n",
       "      <td>0.00</td>\n",
       "      <td>neptune</td>\n",
       "      <td>19</td>\n",
       "    </tr>\n",
       "    <tr>\n",
       "      <th>2</th>\n",
       "      <td>0</td>\n",
       "      <td>tcp</td>\n",
       "      <td>http</td>\n",
       "      <td>SF</td>\n",
       "      <td>232</td>\n",
       "      <td>8153</td>\n",
       "      <td>0</td>\n",
       "      <td>0</td>\n",
       "      <td>0</td>\n",
       "      <td>0</td>\n",
       "      <td>...</td>\n",
       "      <td>1.00</td>\n",
       "      <td>0.00</td>\n",
       "      <td>0.03</td>\n",
       "      <td>0.04</td>\n",
       "      <td>0.03</td>\n",
       "      <td>0.01</td>\n",
       "      <td>0.0</td>\n",
       "      <td>0.01</td>\n",
       "      <td>normal</td>\n",
       "      <td>21</td>\n",
       "    </tr>\n",
       "    <tr>\n",
       "      <th>3</th>\n",
       "      <td>0</td>\n",
       "      <td>tcp</td>\n",
       "      <td>http</td>\n",
       "      <td>SF</td>\n",
       "      <td>199</td>\n",
       "      <td>420</td>\n",
       "      <td>0</td>\n",
       "      <td>0</td>\n",
       "      <td>0</td>\n",
       "      <td>0</td>\n",
       "      <td>...</td>\n",
       "      <td>1.00</td>\n",
       "      <td>0.00</td>\n",
       "      <td>0.00</td>\n",
       "      <td>0.00</td>\n",
       "      <td>0.00</td>\n",
       "      <td>0.00</td>\n",
       "      <td>0.0</td>\n",
       "      <td>0.00</td>\n",
       "      <td>normal</td>\n",
       "      <td>21</td>\n",
       "    </tr>\n",
       "    <tr>\n",
       "      <th>4</th>\n",
       "      <td>0</td>\n",
       "      <td>tcp</td>\n",
       "      <td>private</td>\n",
       "      <td>REJ</td>\n",
       "      <td>0</td>\n",
       "      <td>0</td>\n",
       "      <td>0</td>\n",
       "      <td>0</td>\n",
       "      <td>0</td>\n",
       "      <td>0</td>\n",
       "      <td>...</td>\n",
       "      <td>0.07</td>\n",
       "      <td>0.07</td>\n",
       "      <td>0.00</td>\n",
       "      <td>0.00</td>\n",
       "      <td>0.00</td>\n",
       "      <td>0.00</td>\n",
       "      <td>1.0</td>\n",
       "      <td>1.00</td>\n",
       "      <td>neptune</td>\n",
       "      <td>21</td>\n",
       "    </tr>\n",
       "  </tbody>\n",
       "</table>\n",
       "<p>5 rows × 43 columns</p>\n",
       "</div>"
      ],
      "text/plain": [
       "   duration  \"protocol_type\" \"service\" \"flag\"  \"src_bytes\"   \"dst_bytes\"  \\\n",
       "0         0              udp     other     SF          146             0   \n",
       "1         0              tcp   private     S0            0             0   \n",
       "2         0              tcp      http     SF          232          8153   \n",
       "3         0              tcp      http     SF          199           420   \n",
       "4         0              tcp   private    REJ            0             0   \n",
       "\n",
       "   \"land\"   \"wrong_fragment\"  \"urgent\"   \"hot\"  ...  dst_host_same_srv_rate  \\\n",
       "0       0                  0         0       0  ...                    0.00   \n",
       "1       0                  0         0       0  ...                    0.10   \n",
       "2       0                  0         0       0  ...                    1.00   \n",
       "3       0                  0         0       0  ...                    1.00   \n",
       "4       0                  0         0       0  ...                    0.07   \n",
       "\n",
       "   dst_host_diff_srv_rate  dst_host_diff_srv_rate.1  \\\n",
       "0                    0.60                      0.88   \n",
       "1                    0.05                      0.00   \n",
       "2                    0.00                      0.03   \n",
       "3                    0.00                      0.00   \n",
       "4                    0.07                      0.00   \n",
       "\n",
       "   dst_host_srv_diff_host_rate  dst_host_serror_rate  \\\n",
       "0                         0.00                  0.00   \n",
       "1                         0.00                  1.00   \n",
       "2                         0.04                  0.03   \n",
       "3                         0.00                  0.00   \n",
       "4                         0.00                  0.00   \n",
       "\n",
       "   dst_host_srv_serror_rate  dst_host_rerror_rate  dst_host_srv_rerror_rate  \\\n",
       "0                      0.00                   0.0                      0.00   \n",
       "1                      1.00                   0.0                      0.00   \n",
       "2                      0.01                   0.0                      0.01   \n",
       "3                      0.00                   0.0                      0.00   \n",
       "4                      0.00                   1.0                      1.00   \n",
       "\n",
       "     label   e  \n",
       "0   normal  15  \n",
       "1  neptune  19  \n",
       "2   normal  21  \n",
       "3   normal  21  \n",
       "4  neptune  21  \n",
       "\n",
       "[5 rows x 43 columns]"
      ]
     },
     "execution_count": 3,
     "metadata": {},
     "output_type": "execute_result"
    }
   ],
   "source": [
    "df.head()"
   ]
  },
  {
   "cell_type": "code",
   "execution_count": 4,
   "metadata": {},
   "outputs": [
    {
     "data": {
      "text/plain": [
       "(148514, 43)"
      ]
     },
     "execution_count": 4,
     "metadata": {},
     "output_type": "execute_result"
    }
   ],
   "source": [
    "df.shape"
   ]
  },
  {
   "cell_type": "code",
   "execution_count": 5,
   "metadata": {},
   "outputs": [
    {
     "data": {
      "text/plain": [
       "Counter({'normal': 77052,\n",
       "         'neptune': 45870,\n",
       "         'warezclient': 890,\n",
       "         'ipsweep': 3740,\n",
       "         'portsweep': 3088,\n",
       "         'teardrop': 904,\n",
       "         'nmap': 1566,\n",
       "         'satan': 4368,\n",
       "         'smurf': 3311,\n",
       "         'pod': 242,\n",
       "         'back': 1315,\n",
       "         'guess_passwd': 1284,\n",
       "         'ftp_write': 11,\n",
       "         'multihop': 25,\n",
       "         'rootkit': 23,\n",
       "         'buffer_overflow': 50,\n",
       "         'imap': 12,\n",
       "         'warezmaster': 964,\n",
       "         'phf': 6,\n",
       "         'land': 25,\n",
       "         'loadmodule': 11,\n",
       "         'spy': 2,\n",
       "         'perl': 5,\n",
       "         'saint': 319,\n",
       "         'mscan': 996,\n",
       "         'apache2': 737,\n",
       "         'snmpgetattack': 178,\n",
       "         'processtable': 685,\n",
       "         'httptunnel': 133,\n",
       "         'ps': 15,\n",
       "         'snmpguess': 331,\n",
       "         'mailbomb': 293,\n",
       "         'named': 17,\n",
       "         'sendmail': 14,\n",
       "         'xterm': 13,\n",
       "         'worm': 2,\n",
       "         'xlock': 9,\n",
       "         'xsnoop': 4,\n",
       "         'sqlattack': 2,\n",
       "         'udpstorm': 2})"
      ]
     },
     "execution_count": 5,
     "metadata": {},
     "output_type": "execute_result"
    }
   ],
   "source": [
    "y = df[\"label\"].values\n",
    "from collections import Counter\n",
    "#num = Counter(y)\n",
    "#n=num.get('normal')\n",
    "Counter(y)"
   ]
  },
  {
   "cell_type": "code",
   "execution_count": 7,
   "metadata": {},
   "outputs": [],
   "source": [
    "from sklearn.preprocessing import LabelEncoder\n",
    "encodings = dict()\n",
    "for c in df.columns:\n",
    "    #print df[c].dtype\n",
    "    if df[c].dtype == \"object\":\n",
    "        encodings[c] = LabelEncoder() #to give numerical label to char type labels.\n",
    "        encodings[c]\n",
    "        df[c] = encodings[c].fit_transform(df[c])"
   ]
  },
  {
   "cell_type": "code",
   "execution_count": 8,
   "metadata": {},
   "outputs": [],
   "source": [
    "y = df.pop(\"label\").values\n",
    "X = df.values"
   ]
  },
  {
   "cell_type": "code",
   "execution_count": 9,
   "metadata": {},
   "outputs": [
    {
     "name": "stderr",
     "output_type": "stream",
     "text": [
      "C:\\Users\\Aditya Kyatham\\AppData\\Local\\Programs\\Python\\Python36\\lib\\site-packages\\sklearn\\preprocessing\\_encoders.py:415: FutureWarning: The handling of integer data will change in version 0.22. Currently, the categories are determined based on the range [0, max(values)], while in the future they will be determined based on the unique values.\n",
      "If you want the future behaviour and silence this warning, you can specify \"categories='auto'\".\n",
      "In case you used a LabelEncoder before this OneHotEncoder to convert the categories to integers, then you can now use the OneHotEncoder directly.\n",
      "  warnings.warn(msg, FutureWarning)\n",
      "C:\\Users\\Aditya Kyatham\\AppData\\Local\\Programs\\Python\\Python36\\lib\\site-packages\\sklearn\\preprocessing\\_encoders.py:451: DeprecationWarning: The 'categorical_features' keyword is deprecated in version 0.20 and will be removed in 0.22. You can use the ColumnTransformer instead.\n",
      "  \"use the ColumnTransformer instead.\", DeprecationWarning)\n"
     ]
    }
   ],
   "source": [
    "from sklearn.preprocessing import OneHotEncoder\n",
    "onehotencoder = OneHotEncoder(categorical_features = [1])\n",
    "X = onehotencoder.fit_transform(X).toarray()\n"
   ]
  },
  {
   "cell_type": "code",
   "execution_count": 10,
   "metadata": {},
   "outputs": [],
   "source": [
    "from sklearn.preprocessing import StandardScaler #normalization\n",
    "X = StandardScaler().fit_transform(X)"
   ]
  },
  {
   "cell_type": "code",
   "execution_count": 12,
   "metadata": {},
   "outputs": [],
   "source": [
    "from sklearn.decomposition import PCA\n",
    "import matplotlib.pyplot as plt \n",
    "%matplotlib inline \n",
    "pca = PCA(n_components=2)\n",
    "principalComponents = pca.fit_transform(X)\n",
    "principalDfX = pd.DataFrame(data = principalComponents)"
   ]
  },
  {
   "cell_type": "code",
   "execution_count": 23,
   "metadata": {},
   "outputs": [
    {
     "data": {
      "text/plain": [
       "0         0.164177\n",
       "1         3.630365\n",
       "2        -2.420946\n",
       "3        -2.234218\n",
       "4         3.247595\n",
       "5         3.780995\n",
       "6         3.600570\n",
       "7         3.870846\n",
       "8         3.703232\n",
       "9         3.514535\n",
       "10        3.864684\n",
       "11       -2.862115\n",
       "12       -2.621314\n",
       "13        3.882399\n",
       "14        3.490110\n",
       "15       -2.581923\n",
       "16       -3.537928\n",
       "17       -2.606916\n",
       "18       -2.527018\n",
       "19        3.622443\n",
       "20        3.899175\n",
       "21       -2.648925\n",
       "22       -0.503274\n",
       "23        3.875407\n",
       "24       -0.302755\n",
       "25        3.999524\n",
       "26       -2.353003\n",
       "27       -2.207467\n",
       "28       -2.164662\n",
       "29       -3.687096\n",
       "            ...   \n",
       "148484   -0.840934\n",
       "148485    1.064610\n",
       "148486   -2.632476\n",
       "148487   -0.516454\n",
       "148488   -2.438945\n",
       "148489    0.887442\n",
       "148490    4.005270\n",
       "148491    0.697892\n",
       "148492   -2.251035\n",
       "148493   -2.570839\n",
       "148494   -0.948272\n",
       "148495   -0.228046\n",
       "148496   -2.709050\n",
       "148497   -2.832040\n",
       "148498   -2.829510\n",
       "148499   -0.785112\n",
       "148500    3.554442\n",
       "148501    4.021761\n",
       "148502   -2.219440\n",
       "148503   -2.571722\n",
       "148504    3.598303\n",
       "148505   -2.799156\n",
       "148506    3.065327\n",
       "148507   -1.338191\n",
       "148508   -2.791845\n",
       "148509   -1.700694\n",
       "148510   -2.423794\n",
       "148511   -2.257566\n",
       "148512   -2.553690\n",
       "148513    2.963314\n",
       "Name: 0, Length: 148514, dtype: float64"
      ]
     },
     "execution_count": 23,
     "metadata": {},
     "output_type": "execute_result"
    }
   ],
   "source": [
    "principalDfX[:][0]"
   ]
  },
  {
   "cell_type": "code",
   "execution_count": 24,
   "metadata": {},
   "outputs": [
    {
     "data": {
      "text/plain": [
       "Text(0, 0.5, 'Second Principal Component')"
      ]
     },
     "execution_count": 24,
     "metadata": {},
     "output_type": "execute_result"
    },
    {
     "data": {
      "image/png": "[encoded data removed]",
      "text/plain": [
       "<Figure size 576x432 with 1 Axes>"
      ]
     },
     "metadata": {
      "needs_background": "light"
     },
     "output_type": "display_data"
    }
   ],
   "source": [
    "# giving a larger plot \n",
    "plt.figure(figsize =(8, 6)) \n",
    "  \n",
    "plt.scatter(principalDfX[:][0], principalDfX[:][1],c = y, cmap ='plasma') \n",
    "  \n",
    "# labeling x and y axes \n",
    "plt.xlabel('First Principal Component') \n",
    "plt.ylabel('Second Principal Component') \n"
   ]
  },
  {
   "cell_type": "code",
   "execution_count": 25,
   "metadata": {},
   "outputs": [
    {
     "name": "stdout",
     "output_type": "stream",
     "text": [
      "Counter({16: 77052, 14: 45870, 25: 4368, 7: 3740, 27: 3311, 20: 3088, 15: 1566, 1: 1315, 4: 1284, 11: 996, 35: 964, 32: 904, 34: 890, 0: 737, 21: 685, 29: 331, 24: 319, 10: 293, 19: 242, 28: 178, 5: 133, 2: 50, 12: 25, 8: 25, 23: 23, 13: 17, 22: 15, 26: 14, 39: 13, 6: 12, 3: 11, 9: 11, 37: 9, 18: 6, 17: 5, 38: 4, 30: 2, 36: 2, 31: 2, 33: 2})\n"
     ]
    }
   ],
   "source": [
    "principalDfX.head()\n",
    "print(Counter(y))"
   ]
  },
  {
   "cell_type": "code",
   "execution_count": 26,
   "metadata": {},
   "outputs": [],
   "source": [
    "from sklearn.model_selection import train_test_split\n",
    "X_train, X_test, y_train, y_test = train_test_split(principalDfX, y, test_size=0.2, random_state=42)#random for splitting same data when run again.\n",
    "#X_train, X_val, y_train, y_val = train_test_split(X_train, y_train, test_size=0.25, random_state=42)"
   ]
  },
  {
   "cell_type": "code",
   "execution_count": 27,
   "metadata": {},
   "outputs": [
    {
     "name": "stdout",
     "output_type": "stream",
     "text": [
      "Counter({16: 61786, 14: 36517, 25: 3467, 7: 2973, 27: 2638, 20: 2461, 15: 1275, 1: 1084, 4: 1027, 35: 800, 11: 784, 34: 716, 32: 714, 0: 598, 21: 538, 29: 264, 24: 261, 10: 247, 19: 200, 28: 154, 5: 104, 2: 41, 8: 24, 23: 19, 12: 19, 26: 12, 13: 11, 22: 11, 3: 10, 9: 9, 39: 9, 6: 8, 37: 7, 18: 6, 17: 5, 38: 4, 31: 2, 30: 2, 36: 2, 33: 2})\n"
     ]
    }
   ],
   "source": [
    "print(Counter(y_train))\n",
    "num = Counter(y_train)\n",
    "n=num.get(11)"
   ]
  },
  {
   "cell_type": "code",
   "execution_count": 28,
   "metadata": {},
   "outputs": [
    {
     "data": {
      "text/plain": [
       "DecisionTreeClassifier(class_weight=None, criterion='gini', max_depth=None,\n",
       "                       max_features=None, max_leaf_nodes=None,\n",
       "                       min_impurity_decrease=0.0, min_impurity_split=None,\n",
       "                       min_samples_leaf=1, min_samples_split=2,\n",
       "                       min_weight_fraction_leaf=0.0, presort=False,\n",
       "                       random_state=None, splitter='best')"
      ]
     },
     "execution_count": 28,
     "metadata": {},
     "output_type": "execute_result"
    }
   ],
   "source": [
    "from sklearn.tree import DecisionTreeClassifier \n",
    "\n",
    "Dtree1 = DecisionTreeClassifier(criterion = \"gini\") \n",
    "Dtree1.fit(X_train,y_train)"
   ]
  },
  {
   "cell_type": "code",
   "execution_count": 29,
   "metadata": {},
   "outputs": [
    {
     "name": "stdout",
     "output_type": "stream",
     "text": [
      "Counter({16: 15119, 14: 9343, 25: 918, 7: 759, 27: 692, 20: 628, 15: 307, 4: 270, 1: 259, 11: 202, 32: 186, 35: 185, 34: 185, 21: 148, 0: 145, 24: 65, 29: 62, 10: 58, 19: 54, 28: 34, 5: 31, 12: 8, 2: 7, 13: 6, 3: 5, 22: 5, 26: 4, 8: 4, 6: 3, 37: 3, 23: 2, 17: 2, 18: 2, 39: 1, 38: 1})\n",
      "Counter({16: 15266, 14: 9353, 25: 901, 7: 767, 27: 673, 20: 627, 15: 291, 4: 257, 1: 231, 11: 212, 32: 190, 34: 174, 35: 164, 21: 147, 0: 139, 29: 67, 24: 58, 10: 46, 19: 42, 5: 29, 28: 24, 2: 9, 13: 6, 12: 6, 6: 4, 22: 4, 39: 4, 23: 4, 9: 2, 37: 2, 26: 2, 3: 1, 8: 1})\n"
     ]
    }
   ],
   "source": [
    "y_pred = Dtree1.predict(X_test) #op of step1\n",
    "print(Counter(y_pred))\n",
    "print(Counter(y_test))\n"
   ]
  },
  {
   "cell_type": "code",
   "execution_count": 30,
   "metadata": {},
   "outputs": [
    {
     "name": "stdout",
     "output_type": "stream",
     "text": [
      "Confusion Matrix :\n",
      "[[116   2   0 ...   1   0   0]\n",
      " [  3 127   1 ...   0   0   0]\n",
      " [  0   0   1 ...   0   0   0]\n",
      " ...\n",
      " [  0   0   0 ...   0   0   0]\n",
      " [  0   0   0 ...   0   0   0]\n",
      " [  0   1   0 ...   0   0   0]]\n",
      "Accuracy Score : 0.9233747432919234\n",
      "Report : \n",
      "              precision    recall  f1-score   support\n",
      "\n",
      "           0       0.80      0.83      0.82       139\n",
      "           1       0.49      0.55      0.52       231\n",
      "           2       0.14      0.11      0.12         9\n",
      "           3       0.00      0.00      0.00         1\n",
      "           4       0.66      0.70      0.68       257\n",
      "           5       0.61      0.66      0.63        29\n",
      "           6       0.33      0.25      0.29         4\n",
      "           7       0.96      0.95      0.95       767\n",
      "           8       0.00      0.00      0.00         1\n",
      "           9       0.00      0.00      0.00         2\n",
      "          10       0.41      0.52      0.46        46\n",
      "          11       0.52      0.50      0.51       212\n",
      "          12       0.00      0.00      0.00         6\n",
      "          13       0.00      0.00      0.00         6\n",
      "          14       0.99      0.99      0.99      9353\n",
      "          15       0.83      0.87      0.85       291\n",
      "          16       0.95      0.94      0.95     15266\n",
      "          17       0.00      0.00      0.00         0\n",
      "          18       0.00      0.00      0.00         0\n",
      "          19       0.48      0.62      0.54        42\n",
      "          20       0.83      0.84      0.84       627\n",
      "          21       0.71      0.71      0.71       147\n",
      "          22       0.00      0.00      0.00         4\n",
      "          23       0.00      0.00      0.00         4\n",
      "          24       0.51      0.57      0.54        58\n",
      "          25       0.78      0.79      0.78       901\n",
      "          26       0.00      0.00      0.00         2\n",
      "          27       0.66      0.68      0.67       673\n",
      "          28       0.53      0.75      0.62        24\n",
      "          29       0.89      0.82      0.85        67\n",
      "          32       0.63      0.62      0.63       190\n",
      "          34       0.64      0.68      0.66       174\n",
      "          35       0.40      0.45      0.42       164\n",
      "          37       0.00      0.00      0.00         2\n",
      "          38       0.00      0.00      0.00         0\n",
      "          39       0.00      0.00      0.00         4\n",
      "\n",
      "    accuracy                           0.92     29703\n",
      "   macro avg       0.41      0.43      0.42     29703\n",
      "weighted avg       0.93      0.92      0.92     29703\n",
      "\n"
     ]
    },
    {
     "name": "stderr",
     "output_type": "stream",
     "text": [
      "C:\\Users\\Aditya Kyatham\\AppData\\Local\\Programs\\Python\\Python36\\lib\\site-packages\\sklearn\\metrics\\classification.py:1437: UndefinedMetricWarning: Precision and F-score are ill-defined and being set to 0.0 in labels with no predicted samples.\n",
      "  'precision', 'predicted', average, warn_for)\n",
      "C:\\Users\\Aditya Kyatham\\AppData\\Local\\Programs\\Python\\Python36\\lib\\site-packages\\sklearn\\metrics\\classification.py:1439: UndefinedMetricWarning: Recall and F-score are ill-defined and being set to 0.0 in labels with no true samples.\n",
      "  'recall', 'true', average, warn_for)\n"
     ]
    }
   ],
   "source": [
    "# Python script for confusion matrix creation. \n",
    "from sklearn.metrics import confusion_matrix \n",
    "from sklearn.metrics import accuracy_score \n",
    "from sklearn.metrics import classification_report \n",
    " \n",
    "results = confusion_matrix(y_test, y_pred) \n",
    "print('Confusion Matrix :')\n",
    "print(results) \n",
    "print('Accuracy Score :',accuracy_score(y_test, y_pred))\n",
    "print('Report : ')\n",
    "print(classification_report(y_test, y_pred))\n"
   ]
  },
  {
   "cell_type": "code",
   "execution_count": 17,
   "metadata": {},
   "outputs": [
    {
     "name": "stderr",
     "output_type": "stream",
     "text": [
      "C:\\Users\\Aditya Kyatham\\AppData\\Local\\Programs\\Python\\Python36\\lib\\site-packages\\sklearn\\model_selection\\_split.py:657: Warning: The least populated class in y has only 2 members, which is too few. The minimum number of members in any class cannot be less than n_splits=10.\n",
      "  % (min_groups, self.n_splits)), Warning)\n"
     ]
    },
    {
     "name": "stdout",
     "output_type": "stream",
     "text": [
      "Accuracy Score : 0.9210847480452147\n",
      "Report : \n",
      "              precision    recall  f1-score   support\n",
      "\n",
      "           0       0.80      0.83      0.82       598\n",
      "           1       0.50      0.51      0.50      1084\n",
      "           2       0.08      0.10      0.09        41\n",
      "           3       0.20      0.20      0.20        10\n",
      "           4       0.61      0.67      0.64      1027\n",
      "           5       0.59      0.58      0.58       104\n",
      "           6       0.00      0.00      0.00         8\n",
      "           7       0.95      0.95      0.95      2973\n",
      "           8       0.50      0.50      0.50        24\n",
      "           9       0.00      0.00      0.00         9\n",
      "          10       0.51      0.56      0.53       247\n",
      "          11       0.47      0.45      0.46       784\n",
      "          12       0.00      0.00      0.00        19\n",
      "          13       0.00      0.00      0.00        11\n",
      "          14       0.99      0.99      0.99     36517\n",
      "          15       0.84      0.86      0.85      1275\n",
      "          16       0.95      0.94      0.94     61786\n",
      "          17       0.00      0.00      0.00         5\n",
      "          18       0.14      0.17      0.15         6\n",
      "          19       0.64      0.66      0.65       200\n",
      "          20       0.83      0.85      0.84      2461\n",
      "          21       0.68      0.74      0.71       538\n",
      "          22       0.00      0.00      0.00        11\n",
      "          23       0.10      0.11      0.10        19\n",
      "          24       0.38      0.38      0.38       261\n",
      "          25       0.79      0.79      0.79      3467\n",
      "          26       0.36      0.33      0.35        12\n",
      "          27       0.64      0.68      0.66      2638\n",
      "          28       0.62      0.60      0.61       154\n",
      "          29       0.80      0.89      0.84       264\n",
      "          30       0.00      0.00      0.00         2\n",
      "          31       0.00      0.00      0.00         2\n",
      "          32       0.63      0.67      0.65       714\n",
      "          33       0.00      0.00      0.00         2\n",
      "          34       0.63      0.63      0.63       716\n",
      "          35       0.46      0.46      0.46       800\n",
      "          36       0.00      0.00      0.00         2\n",
      "          37       0.00      0.00      0.00         7\n",
      "          38       0.00      0.00      0.00         4\n",
      "          39       0.00      0.00      0.00         9\n",
      "\n",
      "    accuracy                           0.92    118811\n",
      "   macro avg       0.39      0.40      0.40    118811\n",
      "weighted avg       0.92      0.92      0.92    118811\n",
      "\n"
     ]
    }
   ],
   "source": [
    "from sklearn.model_selection import cross_val_predict\n",
    "from sklearn.model_selection import StratifiedKFold\n",
    "skf = StratifiedKFold(n_splits=10)\n",
    "predicted = cross_val_predict(Dtree1, X_train, y_train, cv=skf)\n",
    "print('Accuracy Score :',accuracy_score(y_train, predicted))\n",
    "print('Report : ')\n",
    "print(classification_report(y_train, predicted))\n"
   ]
  },
  {
   "cell_type": "code",
   "execution_count": null,
   "metadata": {},
   "outputs": [],
   "source": []
  }
 ],
 "metadata": {
  "kernelspec": {
   "display_name": "Python 3",
   "language": "python",
   "name": "python3"
  },
  "language_info": {
   "codemirror_mode": {
    "name": "ipython",
    "version": 3
   },
   "file_extension": ".py",
   "mimetype": "text/x-python",
   "name": "python",
   "nbconvert_exporter": "python",
   "pygments_lexer": "ipython3",
   "version": "3.6.4"
  }
 },
 "nbformat": 4,
 "nbformat_minor": 2
}
