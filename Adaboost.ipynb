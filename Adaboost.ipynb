{
 "cells": [
  {
   "cell_type": "code",
   "execution_count": 1,
   "metadata": {},
   "outputs": [],
   "source": [
    "import pandas as pd"
   ]
  },
  {
   "cell_type": "code",
   "execution_count": 2,
   "metadata": {},
   "outputs": [],
   "source": [
    "df = pd.read_csv(\"C:/Users/Aditya Kyatham/Documents/BE FINAL/nsl-kdd/NSL_KDD-master/my.csv\", index_col=None)#do for test too"
   ]
  },
  {
   "cell_type": "code",
   "execution_count": 3,
   "metadata": {},
   "outputs": [
    {
     "data": {
      "text/html": [
       "<div>\n",
       "<style scoped>\n",
       "    .dataframe tbody tr th:only-of-type {\n",
       "        vertical-align: middle;\n",
       "    }\n",
       "\n",
       "    .dataframe tbody tr th {\n",
       "        vertical-align: top;\n",
       "    }\n",
       "\n",
       "    .dataframe thead th {\n",
       "        text-align: right;\n",
       "    }\n",
       "</style>\n",
       "<table border=\"1\" class=\"dataframe\">\n",
       "  <thead>\n",
       "    <tr style=\"text-align: right;\">\n",
       "      <th></th>\n",
       "      <th>duration</th>\n",
       "      <th>\"protocol_type\"</th>\n",
       "      <th>\"service\"</th>\n",
       "      <th>\"flag\"</th>\n",
       "      <th>\"src_bytes\"</th>\n",
       "      <th>\"dst_bytes\"</th>\n",
       "      <th>\"land\"</th>\n",
       "      <th>\"wrong_fragment\"</th>\n",
       "      <th>\"urgent\"</th>\n",
       "      <th>\"hot\"</th>\n",
       "      <th>...</th>\n",
       "      <th>dst_host_srv_count</th>\n",
       "      <th>dst_host_same_srv_rate</th>\n",
       "      <th>dst_host_diff_srv_rate</th>\n",
       "      <th>dst_host_diff_srv_rate.1</th>\n",
       "      <th>dst_host_srv_diff_host_rate</th>\n",
       "      <th>dst_host_serror_rate</th>\n",
       "      <th>dst_host_srv_serror_rate</th>\n",
       "      <th>dst_host_rerror_rate</th>\n",
       "      <th>dst_host_srv_rerror_rate</th>\n",
       "      <th>label</th>\n",
       "    </tr>\n",
       "  </thead>\n",
       "  <tbody>\n",
       "    <tr>\n",
       "      <th>0</th>\n",
       "      <td>0</td>\n",
       "      <td>udp</td>\n",
       "      <td>other</td>\n",
       "      <td>SF</td>\n",
       "      <td>146</td>\n",
       "      <td>0</td>\n",
       "      <td>0</td>\n",
       "      <td>0</td>\n",
       "      <td>0</td>\n",
       "      <td>0</td>\n",
       "      <td>...</td>\n",
       "      <td>1</td>\n",
       "      <td>0.00</td>\n",
       "      <td>0.60</td>\n",
       "      <td>0.88</td>\n",
       "      <td>0.00</td>\n",
       "      <td>0.00</td>\n",
       "      <td>0.00</td>\n",
       "      <td>0.0</td>\n",
       "      <td>0.00</td>\n",
       "      <td>normal</td>\n",
       "    </tr>\n",
       "    <tr>\n",
       "      <th>1</th>\n",
       "      <td>0</td>\n",
       "      <td>tcp</td>\n",
       "      <td>private</td>\n",
       "      <td>S0</td>\n",
       "      <td>0</td>\n",
       "      <td>0</td>\n",
       "      <td>0</td>\n",
       "      <td>0</td>\n",
       "      <td>0</td>\n",
       "      <td>0</td>\n",
       "      <td>...</td>\n",
       "      <td>26</td>\n",
       "      <td>0.10</td>\n",
       "      <td>0.05</td>\n",
       "      <td>0.00</td>\n",
       "      <td>0.00</td>\n",
       "      <td>1.00</td>\n",
       "      <td>1.00</td>\n",
       "      <td>0.0</td>\n",
       "      <td>0.00</td>\n",
       "      <td>neptune</td>\n",
       "    </tr>\n",
       "    <tr>\n",
       "      <th>2</th>\n",
       "      <td>0</td>\n",
       "      <td>tcp</td>\n",
       "      <td>http</td>\n",
       "      <td>SF</td>\n",
       "      <td>232</td>\n",
       "      <td>8153</td>\n",
       "      <td>0</td>\n",
       "      <td>0</td>\n",
       "      <td>0</td>\n",
       "      <td>0</td>\n",
       "      <td>...</td>\n",
       "      <td>255</td>\n",
       "      <td>1.00</td>\n",
       "      <td>0.00</td>\n",
       "      <td>0.03</td>\n",
       "      <td>0.04</td>\n",
       "      <td>0.03</td>\n",
       "      <td>0.01</td>\n",
       "      <td>0.0</td>\n",
       "      <td>0.01</td>\n",
       "      <td>normal</td>\n",
       "    </tr>\n",
       "    <tr>\n",
       "      <th>3</th>\n",
       "      <td>0</td>\n",
       "      <td>tcp</td>\n",
       "      <td>http</td>\n",
       "      <td>SF</td>\n",
       "      <td>199</td>\n",
       "      <td>420</td>\n",
       "      <td>0</td>\n",
       "      <td>0</td>\n",
       "      <td>0</td>\n",
       "      <td>0</td>\n",
       "      <td>...</td>\n",
       "      <td>255</td>\n",
       "      <td>1.00</td>\n",
       "      <td>0.00</td>\n",
       "      <td>0.00</td>\n",
       "      <td>0.00</td>\n",
       "      <td>0.00</td>\n",
       "      <td>0.00</td>\n",
       "      <td>0.0</td>\n",
       "      <td>0.00</td>\n",
       "      <td>normal</td>\n",
       "    </tr>\n",
       "    <tr>\n",
       "      <th>4</th>\n",
       "      <td>0</td>\n",
       "      <td>tcp</td>\n",
       "      <td>private</td>\n",
       "      <td>REJ</td>\n",
       "      <td>0</td>\n",
       "      <td>0</td>\n",
       "      <td>0</td>\n",
       "      <td>0</td>\n",
       "      <td>0</td>\n",
       "      <td>0</td>\n",
       "      <td>...</td>\n",
       "      <td>19</td>\n",
       "      <td>0.07</td>\n",
       "      <td>0.07</td>\n",
       "      <td>0.00</td>\n",
       "      <td>0.00</td>\n",
       "      <td>0.00</td>\n",
       "      <td>0.00</td>\n",
       "      <td>1.0</td>\n",
       "      <td>1.00</td>\n",
       "      <td>neptune</td>\n",
       "    </tr>\n",
       "  </tbody>\n",
       "</table>\n",
       "<p>5 rows × 42 columns</p>\n",
       "</div>"
      ],
      "text/plain": [
       "   duration  \"protocol_type\" \"service\" \"flag\"  \"src_bytes\"   \"dst_bytes\"  \\\n",
       "0         0              udp     other     SF          146             0   \n",
       "1         0              tcp   private     S0            0             0   \n",
       "2         0              tcp      http     SF          232          8153   \n",
       "3         0              tcp      http     SF          199           420   \n",
       "4         0              tcp   private    REJ            0             0   \n",
       "\n",
       "   \"land\"   \"wrong_fragment\"  \"urgent\"   \"hot\"  ...  dst_host_srv_count  \\\n",
       "0       0                  0         0       0  ...                   1   \n",
       "1       0                  0         0       0  ...                  26   \n",
       "2       0                  0         0       0  ...                 255   \n",
       "3       0                  0         0       0  ...                 255   \n",
       "4       0                  0         0       0  ...                  19   \n",
       "\n",
       "   dst_host_same_srv_rate  dst_host_diff_srv_rate  dst_host_diff_srv_rate.1  \\\n",
       "0                    0.00                    0.60                      0.88   \n",
       "1                    0.10                    0.05                      0.00   \n",
       "2                    1.00                    0.00                      0.03   \n",
       "3                    1.00                    0.00                      0.00   \n",
       "4                    0.07                    0.07                      0.00   \n",
       "\n",
       "   dst_host_srv_diff_host_rate  dst_host_serror_rate  \\\n",
       "0                         0.00                  0.00   \n",
       "1                         0.00                  1.00   \n",
       "2                         0.04                  0.03   \n",
       "3                         0.00                  0.00   \n",
       "4                         0.00                  0.00   \n",
       "\n",
       "   dst_host_srv_serror_rate  dst_host_rerror_rate  dst_host_srv_rerror_rate  \\\n",
       "0                      0.00                   0.0                      0.00   \n",
       "1                      1.00                   0.0                      0.00   \n",
       "2                      0.01                   0.0                      0.01   \n",
       "3                      0.00                   0.0                      0.00   \n",
       "4                      0.00                   1.0                      1.00   \n",
       "\n",
       "     label  \n",
       "0   normal  \n",
       "1  neptune  \n",
       "2   normal  \n",
       "3   normal  \n",
       "4  neptune  \n",
       "\n",
       "[5 rows x 42 columns]"
      ]
     },
     "execution_count": 3,
     "metadata": {},
     "output_type": "execute_result"
    }
   ],
   "source": [
    "df.head()"
   ]
  },
  {
   "cell_type": "code",
   "execution_count": 4,
   "metadata": {},
   "outputs": [
    {
     "data": {
      "text/plain": [
       "Counter({'normal': 77052,\n",
       "         'neptune': 45870,\n",
       "         'warezclient': 890,\n",
       "         'ipsweep': 3740,\n",
       "         'portsweep': 3088,\n",
       "         'teardrop': 904,\n",
       "         'nmap': 1566,\n",
       "         'satan': 4368,\n",
       "         'smurf': 3311,\n",
       "         'pod': 242,\n",
       "         'back': 1315,\n",
       "         'guess_passwd': 1284,\n",
       "         'ftp_write': 11,\n",
       "         'multihop': 25,\n",
       "         'rootkit': 23,\n",
       "         'buffer_overflow': 50,\n",
       "         'imap': 12,\n",
       "         'warezmaster': 964,\n",
       "         'phf': 6,\n",
       "         'land': 25,\n",
       "         'loadmodule': 11,\n",
       "         'spy': 2,\n",
       "         'perl': 5,\n",
       "         'saint': 319,\n",
       "         'mscan': 996,\n",
       "         'apache2': 737,\n",
       "         'snmpgetattack': 178,\n",
       "         'processtable': 685,\n",
       "         'httptunnel': 133,\n",
       "         'ps': 15,\n",
       "         'snmpguess': 331,\n",
       "         'mailbomb': 293,\n",
       "         'named': 17,\n",
       "         'sendmail': 14,\n",
       "         'xterm': 13,\n",
       "         'worm': 2,\n",
       "         'xlock': 9,\n",
       "         'xsnoop': 4,\n",
       "         'sqlattack': 2,\n",
       "         'udpstorm': 2})"
      ]
     },
     "execution_count": 4,
     "metadata": {},
     "output_type": "execute_result"
    }
   ],
   "source": [
    "y = df[\"label\"].values\n",
    "from collections import Counter\n",
    "#num = Counter(y)\n",
    "#n=num.get('normal')\n",
    "Counter(y)"
   ]
  },
  {
   "cell_type": "code",
   "execution_count": 5,
   "metadata": {},
   "outputs": [],
   "source": [
    "from sklearn.preprocessing import LabelEncoder\n",
    "encodings = dict()\n",
    "for c in df.columns:\n",
    "    #print df[c].dtype\n",
    "    if df[c].dtype == \"object\":\n",
    "        encodings[c] = LabelEncoder() #to give numerical label to char type labels.\n",
    "        encodings[c]\n",
    "        df[c] = encodings[c].fit_transform(df[c])"
   ]
  },
  {
   "cell_type": "code",
   "execution_count": 6,
   "metadata": {},
   "outputs": [],
   "source": [
    "y = df.pop(\"label\").values\n",
    "X = df.values"
   ]
  },
  {
   "cell_type": "code",
   "execution_count": 7,
   "metadata": {},
   "outputs": [
    {
     "name": "stderr",
     "output_type": "stream",
     "text": [
      "C:\\Users\\Aditya Kyatham\\AppData\\Local\\Programs\\Python\\Python36\\lib\\site-packages\\sklearn\\preprocessing\\_encoders.py:415: FutureWarning: The handling of integer data will change in version 0.22. Currently, the categories are determined based on the range [0, max(values)], while in the future they will be determined based on the unique values.\n",
      "If you want the future behaviour and silence this warning, you can specify \"categories='auto'\".\n",
      "In case you used a LabelEncoder before this OneHotEncoder to convert the categories to integers, then you can now use the OneHotEncoder directly.\n",
      "  warnings.warn(msg, FutureWarning)\n",
      "C:\\Users\\Aditya Kyatham\\AppData\\Local\\Programs\\Python\\Python36\\lib\\site-packages\\sklearn\\preprocessing\\_encoders.py:451: DeprecationWarning: The 'categorical_features' keyword is deprecated in version 0.20 and will be removed in 0.22. You can use the ColumnTransformer instead.\n",
      "  \"use the ColumnTransformer instead.\", DeprecationWarning)\n"
     ]
    }
   ],
   "source": [
    "from sklearn.preprocessing import OneHotEncoder\n",
    "onehotencoder = OneHotEncoder(categorical_features = [1])\n",
    "X = onehotencoder.fit_transform(X).toarray()\n"
   ]
  },
  {
   "cell_type": "code",
   "execution_count": 8,
   "metadata": {},
   "outputs": [],
   "source": [
    "from sklearn.preprocessing import StandardScaler #normalization\n",
    "X = StandardScaler().fit_transform(X)"
   ]
  },
  {
   "cell_type": "code",
   "execution_count": 9,
   "metadata": {},
   "outputs": [],
   "source": [
    "from sklearn.decomposition import PCA\n",
    "\n",
    "pca = PCA(n_components=2)\n",
    "principalComponents = pca.fit_transform(X)\n",
    "principalDfX = pd.DataFrame(data = principalComponents)"
   ]
  },
  {
   "cell_type": "code",
   "execution_count": 10,
   "metadata": {},
   "outputs": [
    {
     "name": "stdout",
     "output_type": "stream",
     "text": [
      "Counter({16: 77052, 14: 45870, 25: 4368, 7: 3740, 27: 3311, 20: 3088, 15: 1566, 1: 1315, 4: 1284, 11: 996, 35: 964, 32: 904, 34: 890, 0: 737, 21: 685, 29: 331, 24: 319, 10: 293, 19: 242, 28: 178, 5: 133, 2: 50, 12: 25, 8: 25, 23: 23, 13: 17, 22: 15, 26: 14, 39: 13, 6: 12, 3: 11, 9: 11, 37: 9, 18: 6, 17: 5, 38: 4, 30: 2, 36: 2, 31: 2, 33: 2})\n"
     ]
    }
   ],
   "source": [
    "principalDfX.head()\n",
    "print(Counter(y))"
   ]
  },
  {
   "cell_type": "code",
   "execution_count": 11,
   "metadata": {},
   "outputs": [],
   "source": [
    "from sklearn.model_selection import train_test_split\n",
    "X_train, X_test, y_train, y_test = train_test_split(principalDfX, y, test_size=0.2, random_state=42)#random for splitting same data when run again.\n",
    "#X_train, X_val, y_train, y_val = train_test_split(X_train, y_train, test_size=0.25, random_state=42)"
   ]
  },
  {
   "cell_type": "code",
   "execution_count": 12,
   "metadata": {},
   "outputs": [],
   "source": [
    "from sklearn.tree import DecisionTreeClassifier\n",
    "clf1 = DecisionTreeClassifier(random_state=0)"
   ]
  },
  {
   "cell_type": "code",
   "execution_count": 13,
   "metadata": {},
   "outputs": [
    {
     "data": {
      "text/plain": [
       "AdaBoostClassifier(algorithm='SAMME.R',\n",
       "                   base_estimator=DecisionTreeClassifier(class_weight=None,\n",
       "                                                         criterion='gini',\n",
       "                                                         max_depth=None,\n",
       "                                                         max_features=None,\n",
       "                                                         max_leaf_nodes=None,\n",
       "                                                         min_impurity_decrease=0.0,\n",
       "                                                         min_impurity_split=None,\n",
       "                                                         min_samples_leaf=1,\n",
       "                                                         min_samples_split=2,\n",
       "                                                         min_weight_fraction_leaf=0.0,\n",
       "                                                         presort=False,\n",
       "                                                         random_state=0,\n",
       "                                                         splitter='best'),\n",
       "                   learning_rate=1.0, n_estimators=100, random_state=0)"
      ]
     },
     "execution_count": 13,
     "metadata": {},
     "output_type": "execute_result"
    }
   ],
   "source": [
    "from sklearn.ensemble import AdaBoostClassifier\n",
    "\n",
    "clf = AdaBoostClassifier(base_estimator=clf1,n_estimators=100,random_state=0)\n",
    "clf.fit(X_train, y_train) "
   ]
  },
  {
   "cell_type": "code",
   "execution_count": 14,
   "metadata": {},
   "outputs": [
    {
     "name": "stdout",
     "output_type": "stream",
     "text": [
      "Counter({16: 15464, 14: 9365, 25: 901, 7: 762, 20: 622, 27: 619, 15: 310, 4: 252, 1: 210, 32: 186, 11: 181, 34: 148, 0: 146, 35: 138, 21: 134, 29: 74, 24: 50, 19: 42, 10: 40, 5: 26, 28: 18, 6: 3, 26: 3, 2: 2, 8: 2, 18: 1, 23: 1, 39: 1, 3: 1, 12: 1})\n",
      "Counter({16: 15266, 14: 9353, 25: 901, 7: 767, 27: 673, 20: 627, 15: 291, 4: 257, 1: 231, 11: 212, 32: 190, 34: 174, 35: 164, 21: 147, 0: 139, 29: 67, 24: 58, 10: 46, 19: 42, 5: 29, 28: 24, 2: 9, 13: 6, 12: 6, 6: 4, 22: 4, 39: 4, 23: 4, 9: 2, 37: 2, 26: 2, 3: 1, 8: 1})\n"
     ]
    }
   ],
   "source": [
    "y_pred = clf.predict(X_test) # test the output \n",
    "print(Counter(y_pred))\n",
    "print(Counter(y_test))"
   ]
  },
  {
   "cell_type": "code",
   "execution_count": 15,
   "metadata": {},
   "outputs": [
    {
     "name": "stdout",
     "output_type": "stream",
     "text": [
      "Confusion Matrix :\n",
      "[[118   0   0 ...   0   0   0]\n",
      " [  1 125   0 ...   1   0   0]\n",
      " [  0   0   1 ...   0   0   0]\n",
      " ...\n",
      " [  0   2   0 ...  85   0   0]\n",
      " [  0   0   0 ...   0   0   0]\n",
      " [  0   1   0 ...   1   0   0]]\n",
      "Accuracy Score : 0.9356630643369357\n",
      "Report : \n"
     ]
    },
    {
     "name": "stderr",
     "output_type": "stream",
     "text": [
      "C:\\Users\\Aditya Kyatham\\AppData\\Local\\Programs\\Python\\Python36\\lib\\site-packages\\sklearn\\metrics\\classification.py:1437: UndefinedMetricWarning: Precision and F-score are ill-defined and being set to 0.0 in labels with no predicted samples.\n",
      "  'precision', 'predicted', average, warn_for)\n",
      "C:\\Users\\Aditya Kyatham\\AppData\\Local\\Programs\\Python\\Python36\\lib\\site-packages\\sklearn\\metrics\\classification.py:1439: UndefinedMetricWarning: Recall and F-score are ill-defined and being set to 0.0 in labels with no true samples.\n",
      "  'recall', 'true', average, warn_for)\n"
     ]
    },
    {
     "name": "stdout",
     "output_type": "stream",
     "text": [
      "              precision    recall  f1-score   support\n",
      "\n",
      "           0       0.81      0.85      0.83       139\n",
      "           1       0.60      0.54      0.57       231\n",
      "           2       0.50      0.11      0.18         9\n",
      "           3       0.00      0.00      0.00         1\n",
      "           4       0.73      0.71      0.72       257\n",
      "           5       0.73      0.66      0.69        29\n",
      "           6       0.33      0.25      0.29         4\n",
      "           7       0.96      0.95      0.96       767\n",
      "           8       0.00      0.00      0.00         1\n",
      "           9       0.00      0.00      0.00         2\n",
      "          10       0.65      0.57      0.60        46\n",
      "          11       0.62      0.53      0.57       212\n",
      "          12       1.00      0.17      0.29         6\n",
      "          13       0.00      0.00      0.00         6\n",
      "          14       0.99      0.99      0.99      9353\n",
      "          15       0.84      0.90      0.87       291\n",
      "          16       0.95      0.96      0.95     15266\n",
      "          18       0.00      0.00      0.00         0\n",
      "          19       0.67      0.67      0.67        42\n",
      "          20       0.88      0.87      0.88       627\n",
      "          21       0.83      0.76      0.79       147\n",
      "          22       0.00      0.00      0.00         4\n",
      "          23       0.00      0.00      0.00         4\n",
      "          24       0.48      0.41      0.44        58\n",
      "          25       0.81      0.81      0.81       901\n",
      "          26       0.00      0.00      0.00         2\n",
      "          27       0.77      0.71      0.74       673\n",
      "          28       0.17      0.12      0.14        24\n",
      "          29       0.82      0.91      0.87        67\n",
      "          32       0.65      0.64      0.64       190\n",
      "          34       0.74      0.63      0.68       174\n",
      "          35       0.62      0.52      0.56       164\n",
      "          37       0.00      0.00      0.00         2\n",
      "          39       0.00      0.00      0.00         4\n",
      "\n",
      "    accuracy                           0.94     29703\n",
      "   macro avg       0.50      0.45      0.46     29703\n",
      "weighted avg       0.93      0.94      0.93     29703\n",
      "\n"
     ]
    }
   ],
   "source": [
    "# Python script for confusion matrix creation. \n",
    "from sklearn.metrics import confusion_matrix \n",
    "from sklearn.metrics import accuracy_score \n",
    "from sklearn.metrics import classification_report \n",
    " \n",
    "results = confusion_matrix(y_test, y_pred) \n",
    "print('Confusion Matrix :')\n",
    "print(results) \n",
    "print('Accuracy Score :',accuracy_score(y_test, y_pred))\n",
    "print('Report : ')\n",
    "print(classification_report(y_test, y_pred))\n"
   ]
  },
  {
   "cell_type": "code",
   "execution_count": null,
   "metadata": {},
   "outputs": [
    {
     "name": "stderr",
     "output_type": "stream",
     "text": [
      "C:\\Users\\Aditya Kyatham\\AppData\\Local\\Programs\\Python\\Python36\\lib\\site-packages\\sklearn\\model_selection\\_split.py:657: Warning: The least populated class in y has only 2 members, which is too few. The minimum number of members in any class cannot be less than n_splits=10.\n",
      "  % (min_groups, self.n_splits)), Warning)\n"
     ]
    }
   ],
   "source": [
    "from sklearn.model_selection import cross_val_predict\n",
    "from sklearn.model_selection import StratifiedKFold\n",
    "skf = StratifiedKFold(n_splits=10)\n",
    "predicted = cross_val_predict(clf, X_train, y_train, cv=skf)\n",
    "print('Accuracy Score :',accuracy_score(y_train, predicted))\n",
    "print('Report : ')\n",
    "print(classification_report(y_train, predicted))\n"
   ]
  },
  {
   "cell_type": "code",
   "execution_count": null,
   "metadata": {},
   "outputs": [],
   "source": []
  }
 ],
 "metadata": {
  "kernelspec": {
   "display_name": "Python 3",
   "language": "python",
   "name": "python3"
  },
  "language_info": {
   "codemirror_mode": {
    "name": "ipython",
    "version": 3
   },
   "file_extension": ".py",
   "mimetype": "text/x-python",
   "name": "python",
   "nbconvert_exporter": "python",
   "pygments_lexer": "ipython3",
   "version": "3.6.4"
  }
 },
 "nbformat": 4,
 "nbformat_minor": 2
}
